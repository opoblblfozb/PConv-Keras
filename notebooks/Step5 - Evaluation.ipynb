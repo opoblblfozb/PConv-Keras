{
 "cells": [
  {
   "cell_type": "markdown",
   "id": "df7362c4",
   "metadata": {},
   "source": [
    "# Benchmarking & Evaluation\n",
    "The purpose of this notebook is to benchmark our implemented models against each other, as well as against other open source inpainting implementations"
   ]
  },
  {
   "cell_type": "code",
   "execution_count": null,
   "id": "024c39d3",
   "metadata": {},
   "outputs": [],
   "source": [
    "import os\n",
    "from copy import deepcopy\n",
    "\n",
    "# Change to root path\n",
    "if os.path.basename(os.getcwd()) != 'PConv-Keras':\n",
    "    os.chdir('..')\n",
    "\n",
    "import matplotlib.pyplot as plt\n",
    "\n",
    "import cv2\n",
    "import numpy as np\n",
    "import pandas as pd\n",
    "from tqdm import tqdm\n",
    "\n",
    "import tensorflow as tf\n",
    "\n",
    "from libs.data_loaders import AugmentingDataGenerator\n",
    "from libs.unet_model import InpaintingUnet\n",
    "from libs.util import MaskGenerator\n",
    "\n",
    "\n",
    "%load_ext autoreload\n",
    "%autoreload 2\n",
    "plt.ioff()\n",
    "\n",
    "# SETTINGS\n",
    "TEST_DIR = r\"/media/gruber/AuxDisk/ILSVRC/Data/CLS-LOC/test\"\n",
    "MASK_DIR = r\"./data/masks/test\"\n",
    "BATCH_SIZE = 1"
   ]
  },
  {
   "cell_type": "markdown",
   "id": "a7017a1a",
   "metadata": {},
   "source": [
    "# Utility Functions\n",
    "Utility functions for evaluating models"
   ]
  },
  {
   "cell_type": "code",
   "execution_count": 2,
   "id": "be0a431b",
   "metadata": {},
   "outputs": [
    {
     "name": "stdout",
     "output_type": "stream",
     "text": [
      ">> Found 12000 masks in ./data/masks/test\n",
      "Found 99943 images belonging to 1 classes.\n"
     ]
    }
   ],
   "source": [
    "# Instantiate mask generator with preset masks\n",
    "mask_generator = MaskGenerator(\n",
    "    512, 512, 3, rand_seed=42, filepath=MASK_DIR, rotation=False, dilation=False, cropping=False, invert=False\n",
    ")\n",
    "\n",
    "# Create testing generator\n",
    "test_datagen = AugmentingDataGenerator(mask_generator, rescale=1./255)\n",
    "test_generator = test_datagen.flow_from_directory(\n",
    "    TEST_DIR, \n",
    "    target_size=(512, 512), \n",
    "    batch_size=BATCH_SIZE, \n",
    "    seed=42\n",
    ")\n",
    "\n",
    "def evaluate_model(model, tests_per_image=5):\n",
    "    \n",
    "    metric_maskratio = []\n",
    "    metric_psnr = []\n",
    "    metric_ssim = []\n",
    "    metric_l1 = []\n",
    "    \n",
    "    mae = tf.keras.losses.MeanAbsoluteError()\n",
    "    \n",
    "    # Loop through test masks released with paper\n",
    "    test_masks = os.listdir(MASK_DIR)\n",
    "    for i, filename in tqdm(enumerate(test_masks), total=len(test_masks)):\n",
    "\n",
    "        # Load mask from paper\n",
    "        filepath = os.path.join('./data/masks/test', filename)\n",
    "        mask = cv2.imread(filepath) / 255        \n",
    "        maskratio = mask[:,:,0].sum() / (512 * 512)\n",
    "        mask = np.array([1-mask for _ in range(BATCH_SIZE)])        \n",
    "        \n",
    "        for _ in range(tests_per_image):\n",
    "\n",
    "            # Pick out image from test generator\n",
    "            test_data = next(test_generator)\n",
    "            (_, _), ori = test_data\n",
    "\n",
    "            masked = deepcopy(ori)\n",
    "            masked[mask==0] = 1\n",
    "\n",
    "            # Run prediction on image & mask\n",
    "            pred = model.predict([ori, mask])\n",
    "\n",
    "            # Add metrics\n",
    "            metric_maskratio.append(maskratio)\n",
    "            metric_psnr.append(tf.image.psnr(ori, pred, max_val=1).numpy()[0])\n",
    "            metric_ssim.append(tf.image.ssim(ori, pred, max_val=1).numpy()[0])\n",
    "            metric_l1.append(mae(ori, pred).numpy())   \n",
    "        \n",
    "        if i > 50:\n",
    "            break\n",
    "            \n",
    "    return pd.DataFrame({\n",
    "        'maskratio': metric_maskratio,\n",
    "        'psnr': metric_psnr,\n",
    "        'ssim': metric_ssim,\n",
    "        'l1': metric_l1\n",
    "    })"
   ]
  },
  {
   "cell_type": "markdown",
   "id": "64c8bbee",
   "metadata": {},
   "source": [
    "# Evalulate PConv Network\n",
    "Liu *et al.*,  **Image Inpainting for Irregular Holes Using Partial Convolutions**, https://arxiv.org/abs/1804.07723"
   ]
  },
  {
   "cell_type": "code",
   "execution_count": 3,
   "id": "7d22a98d",
   "metadata": {},
   "outputs": [
    {
     "name": "stdout",
     "output_type": "stream",
     "text": [
      "Running model on 2 GPUs\n",
      "INFO:tensorflow:Using MirroredStrategy with devices ('/job:localhost/replica:0/task:0/device:GPU:0', '/job:localhost/replica:0/task:0/device:GPU:1')\n",
      "INFO:tensorflow:Reduce to /job:localhost/replica:0/task:0/device:CPU:0 then broadcast to ('/job:localhost/replica:0/task:0/device:CPU:0',).\n",
      "INFO:tensorflow:Reduce to /job:localhost/replica:0/task:0/device:CPU:0 then broadcast to ('/job:localhost/replica:0/task:0/device:CPU:0',).\n",
      "INFO:tensorflow:Reduce to /job:localhost/replica:0/task:0/device:CPU:0 then broadcast to ('/job:localhost/replica:0/task:0/device:CPU:0',).\n",
      "INFO:tensorflow:Reduce to /job:localhost/replica:0/task:0/device:CPU:0 then broadcast to ('/job:localhost/replica:0/task:0/device:CPU:0',).\n",
      "INFO:tensorflow:Reduce to /job:localhost/replica:0/task:0/device:CPU:0 then broadcast to ('/job:localhost/replica:0/task:0/device:CPU:0',).\n",
      "INFO:tensorflow:Reduce to /job:localhost/replica:0/task:0/device:CPU:0 then broadcast to ('/job:localhost/replica:0/task:0/device:CPU:0',).\n",
      "INFO:tensorflow:Reduce to /job:localhost/replica:0/task:0/device:CPU:0 then broadcast to ('/job:localhost/replica:0/task:0/device:CPU:0',).\n",
      "INFO:tensorflow:Reduce to /job:localhost/replica:0/task:0/device:CPU:0 then broadcast to ('/job:localhost/replica:0/task:0/device:CPU:0',).\n",
      "INFO:tensorflow:Reduce to /job:localhost/replica:0/task:0/device:CPU:0 then broadcast to ('/job:localhost/replica:0/task:0/device:CPU:0',).\n",
      "INFO:tensorflow:Reduce to /job:localhost/replica:0/task:0/device:CPU:0 then broadcast to ('/job:localhost/replica:0/task:0/device:CPU:0',).\n"
     ]
    }
   ],
   "source": [
    "model = InpaintingUnet(\n",
    "    conv_layer='pconv', \n",
    "    load_weights='./data/logs/imagenet_phase1/weights.01-35.29'\n",
    ")"
   ]
  },
  {
   "cell_type": "code",
   "execution_count": 35,
   "id": "c54cb638",
   "metadata": {},
   "outputs": [
    {
     "name": "stderr",
     "output_type": "stream",
     "text": [
      "  0%|          | 51/12000 [00:42<2:45:07,  1.21it/s]\n"
     ]
    },
    {
     "data": {
      "image/png": "[encoded data removed]",
      "text/plain": [
       "<Figure size 432x288 with 1 Axes>"
      ]
     },
     "metadata": {
      "needs_background": "light"
     },
     "output_type": "display_data"
    }
   ],
   "source": [
    "df = evaluate_model(model)\n",
    "\n",
    "means = df.groupby(pd.cut(df.maskratio, np.linspace(0, 0.6, 7))).psnr.mean()\n",
    "stds = df.groupby(pd.cut(df.maskratio, np.linspace(0, 0.6, 7))).psnr.std()\n",
    "\n",
    "means.plot(yerr=stds, kind='bar')\n",
    "plt.show()"
   ]
  },
  {
   "cell_type": "markdown",
   "id": "587796a9",
   "metadata": {},
   "source": [
    "# Evaluate GConv Network\n",
    "Architecture from: * Liu *et al.*,  **Image Inpainting for Irregular Holes Using Partial Convolutions**, https://arxiv.org/abs/1804.07723\n",
    "\n",
    "Conv Layer from : Yu *et al.*,  **Free-Form Image Inpainting with Gated Convolution**, https://arxiv.org/abs/1806.03589"
   ]
  },
  {
   "cell_type": "code",
   "execution_count": null,
   "id": "3cb09b02",
   "metadata": {},
   "outputs": [],
   "source": [
    "model = InpaintingUnet(\n",
    "    conv_layer='gconv', \n",
    "    load_weights='./data/logs/imagenet_phase1/weights.01-35.29'\n",
    ")"
   ]
  },
  {
   "cell_type": "markdown",
   "id": "566529c2",
   "metadata": {},
   "source": [
    "# Co-mod-GAN\n",
    "Source: Zhao *et al.*, Large Scale Image Completion Via Co-Modulated Generative Adversarial Networks, https://openreview.net/pdf?id=sSjqmfsk95O"
   ]
  }
 ],
 "metadata": {
  "kernelspec": {
   "display_name": "Python (inpainting)",
   "language": "python",
   "name": "inpainting"
  },
  "language_info": {
   "codemirror_mode": {
    "name": "ipython",
    "version": 3
   },
   "file_extension": ".py",
   "mimetype": "text/x-python",
   "name": "python",
   "nbconvert_exporter": "python",
   "pygments_lexer": "ipython3",
   "version": "3.8.10"
  }
 },
 "nbformat": 4,
 "nbformat_minor": 5
}
